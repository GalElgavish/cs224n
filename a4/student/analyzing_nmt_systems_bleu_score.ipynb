{
 "cells": [
  {
   "cell_type": "code",
   "execution_count": 1,
   "outputs": [],
   "source": [
    "import numpy as np"
   ],
   "metadata": {
    "collapsed": false,
    "ExecuteTime": {
     "end_time": "2023-10-03T23:06:42.332166600Z",
     "start_time": "2023-10-03T23:06:41.973964300Z"
    }
   },
   "id": "b3e6ee7032c1df89"
  },
  {
   "cell_type": "code",
   "execution_count": 2,
   "outputs": [],
   "source": [
    "def get_ngrams(n: int, sentence: list[str]) -> list[str]:\n",
    "    ngrams = []\n",
    "    for i in range(len(sentence) - n + 1):\n",
    "        ngrams.append(' '.join(sentence[i:i+n]))\n",
    "        \n",
    "    return ngrams\n",
    "\n",
    "def closest_r(rs: list[list[str]], c: list[str]) -> int:\n",
    "    len_rs = [len(sentence) for sentence in rs]\n",
    "    r_idx = np.argmin(np.abs(np.array(len_rs) - len(c)))\n",
    "    \n",
    "    return r_idx\n",
    "\n",
    "def brevity_penalty(rs: list[list[str]], c: list[str]) -> float:\n",
    "    r_idx = closest_r(rs=rs, c=c)\n",
    "    bp = 1. if len(c) >= len(rs[r_idx]) else np.exp(1 - len(rs[r_idx])/len(c))\n",
    "    \n",
    "    return bp\n",
    "\n",
    "def compute_p(c: list[str], rs: list[list[str]], N: int) -> np.ndarray:\n",
    "    p = []\n",
    "    for n in range(1, N+1):\n",
    "        ngrams_rs = [get_ngrams(n=n, sentence=sentence) for sentence in rs] \n",
    "        ngrams_c = get_ngrams(n=n, sentence=c)\n",
    "        numerator = 0\n",
    "        denominator = 0\n",
    "        for ngram_c in ngrams_c:\n",
    "            count_r_ngram = max(ngrams_r_i.count(ngram_c) for ngrams_r_i in ngrams_rs)\n",
    "            count_c_ngram = ngrams_c.count(ngram_c)\n",
    "            numerator += min(count_r_ngram, count_c_ngram)\n",
    "            denominator += count_c_ngram\n",
    "        p.append(numerator / denominator)\n",
    "    \n",
    "    return np.array(p)\n",
    "\n",
    "def compute_bleu(c: list[str], rs: list[list[str]] ,lambdas: np.ndarray) -> float:\n",
    "    p = compute_p(c=c, rs=rs, N=len(lambdas))\n",
    "    bp = brevity_penalty(rs=rs, c=c)\n",
    "    bleu = bp * np.exp(np.sum(lambdas * np.log(p)))\n",
    "    \n",
    "    return bleu"
   ],
   "metadata": {
    "collapsed": false,
    "ExecuteTime": {
     "end_time": "2023-10-03T23:06:42.336881500Z",
     "start_time": "2023-10-03T23:06:42.312251900Z"
    }
   },
   "id": "5caa086ccc01a276"
  },
  {
   "cell_type": "code",
   "execution_count": 3,
   "outputs": [],
   "source": [
    "references = [\n",
    "    \"resources have to be sufficient and they have to be predictable\".split(' '),\n",
    "    \"adequate and predictable resources are required\".split(' ')\n",
    "]\n",
    "translations = [\n",
    "    \"here is a need for adequate and predictable resources\".split(' '),\n",
    "    \"resources be sufficient and predictable to\".split(' ')\n",
    "]\n",
    "lambdas = np.array([0.5, 0.5])"
   ],
   "metadata": {
    "collapsed": false,
    "ExecuteTime": {
     "end_time": "2023-10-03T23:06:42.336881500Z",
     "start_time": "2023-10-03T23:06:42.318326600Z"
    }
   },
   "id": "1ae0d7b29db2a7af"
  },
  {
   "cell_type": "code",
   "execution_count": 4,
   "outputs": [
    {
     "name": "stdout",
     "output_type": "stream",
     "text": [
      "BLEU for NMT Translation c_0 is 0.327\n",
      "BLEU for NMT Translation c_1 is 0.775\n"
     ]
    }
   ],
   "source": [
    "for i, c in enumerate(translations):\n",
    "    bleu = compute_bleu(c=c, rs=references, lambdas=lambdas)\n",
    "    print(f\"BLEU for NMT Translation c_{i} is {bleu:.3f}\")"
   ],
   "metadata": {
    "collapsed": false,
    "ExecuteTime": {
     "end_time": "2023-10-03T23:06:42.410202900Z",
     "start_time": "2023-10-03T23:06:42.340880200Z"
    }
   },
   "id": "5c6ac561c548f001"
  },
  {
   "cell_type": "code",
   "execution_count": 5,
   "outputs": [
    {
     "name": "stdout",
     "output_type": "stream",
     "text": [
      "BLEU for NMT Translation c_0 is 0.408\n",
      "BLEU for NMT Translation c_1 is 0.316\n"
     ]
    }
   ],
   "source": [
    "for i, c in enumerate(translations):\n",
    "    bleu = compute_bleu(c=c, rs=references[1:2], lambdas=lambdas)\n",
    "    print(f\"BLEU for NMT Translation c_{i} is {bleu:.3f}\")"
   ],
   "metadata": {
    "collapsed": false,
    "ExecuteTime": {
     "end_time": "2023-10-03T23:06:42.568382800Z",
     "start_time": "2023-10-03T23:06:42.360420900Z"
    }
   },
   "id": "5b44c74bec13ce7e"
  }
 ],
 "metadata": {
  "kernelspec": {
   "display_name": "Python 3",
   "language": "python",
   "name": "python3"
  },
  "language_info": {
   "codemirror_mode": {
    "name": "ipython",
    "version": 2
   },
   "file_extension": ".py",
   "mimetype": "text/x-python",
   "name": "python",
   "nbconvert_exporter": "python",
   "pygments_lexer": "ipython2",
   "version": "2.7.6"
  }
 },
 "nbformat": 4,
 "nbformat_minor": 5
}
